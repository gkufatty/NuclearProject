
    "## 5. Exploring Kinematics Using Monte Carlo Calculations"
   ]
  },
  {
   "cell_type": "markdown",
   "metadata": {},
   "source": [
    "One way to generate events that are distributed in a non-uniform way is through the sampling or \"accept/reject\" method.  It's most straight forward to think about the one dimensional case.  For selecting events from a multi-dimensional distribution, we can generally sample one dimension at a time.  \n",
    "\n",
    "If we are given a function to sample events from over a given range, first, think about plotting $f(x)$ vs. $x$.  Next, draw a box defined by the positive and negative values of the $x$ range, and the maximum value of $f(x)$ (and maybe the minimum value as well, if it drops below zero).  Next, generate a random pair of values $(x,y)$ uniformly distributed over the box.  Finally, keep the event with valye $x$ if it satisfies $y<f(x)$, otherwise through it away and generate another uniformly distributed event. Keep on going until you have as many events as you want.\n",
    "\n",
    "Below is an example of generating events with a to $1+\\cos^2\\theta$ distribution, where $\\theta$ is the polar angle in spherical coordinates.  The distribution of events is plotted, along with a red curve that corresponds to the expected distribution that the events are being drawn from (properly normalized to the number of events generated)."
   ]
  },
  {
   "cell_type": "code",
   "execution_count": 42,
   "metadata": {},
   "outputs": [
    {
     "data": {
      "image/png": "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\n",
      "text/plain": [
       "<Figure size 432x288 with 1 Axes>"
      ]
     },
     "metadata": {
      "needs_background": "light"
     },
     "output_type": "display_data"
    }
   ],
   "source": [
    "from random import random,uniform\n",
    "import matplotlib.pyplot as plt\n",
    "import numpy as np\n",
    "import math\n",
    "\n",
    "N = 10000\n",
    "b = 100.\n",
    "\n",
    "# simulate events\n",
    "data = []\n",
    "for x in range(N):\n",
    "    while 1:\n",
    "        costheta = uniform(-1,1)  # sample uniformly in cos(theta)\n",
    "        r1 = 2.*random()         # should we keep the event or not?\n",
    "        if(r1 < 1+costheta**2):\n",
    "            break\n",
    "    data.append(costheta)\n",
    "    \n",
    "# draw the model curve, for comparison\n",
    "def f(x):\n",
    "        return 1 + x**2\n",
    "xpts = np.linspace(-1,1,100)\n",
    "        \n",
    "plt.hist(data,bins=50, range=[-1,1])\n",
    "plt.plot(xpts,140.*f(xpts), color='red')\n",
    "\n",
    "plt.ylabel(\"Yield / 0.04\")\n",
    "plt.xlabel(\"cos(theta)\")\n",
    "\n",
    "\n",
    "plt.show()\n",
    "\n"
   ]
  },
  {
   "cell_type": "markdown",
   "metadata": {},
   "source": [
    "We can use such techniques to generate events that can be used in more complicated simulation packages, and also to study various properties of reactions."
   ]
  },
  {
   "cell_type": "markdown",
   "metadata": {},
   "source": [
    "Let's consider the decay of a boson of rest mass 200~MeV into two massless particles.  A beam of such bosons is moving along the $z$-axis with a certain momentum.  Consider two cases of the decay: where the decay particles are generated uniform in solid angle (uniform in $\\phi$ and in $\\cos \\theta$), and where the decay particles are generated uniform in $\\phi$ and with a $1+\\cos^2\\theta$ distribution.  Note that these decay distributions are defined in the rest frame of the boson.\n",
    "\n",
    "Consider three different cases: where the bosons have momenta of 300 MeV/c, 900 MeV/c, and 1.4 GeV/c in the \"lab frame\".  In each of these cases, compare the distributions of the energies and polar angles ($\\theta$) of the decay particles under the two hypotheses (note that since this is a two-body decay, you only have to determine the orientation of one of these particles - the other is then defined by energy and momentum conservation).  For each momenta, then answer the following questions:  What is the maximum energy and polar angle of the decay products in the lab frame?  What is the minimum energy and polar angle of the decay products in the lab frame?  What is the most probable energy and polar angle of the decay products in the lab frame?  "
   ]
  }
 ],
 "metadata": {
  "kernelspec": {
   "display_name": "Python 3",
   "language": "python",
   "name": "python3"
  },
  "language_info": {
   "codemirror_mode": {
    "name": "ipython",
    "version": 3
   },
   "file_extension": ".py",
   "mimetype": "text/x-python",
   "name": "python",
   "nbconvert_exporter": "python",
   "pygments_lexer": "ipython3",
   "version": "3.7.4"
  }
 },
 "nbformat": 4,
 "nbformat_minor": 5
}
