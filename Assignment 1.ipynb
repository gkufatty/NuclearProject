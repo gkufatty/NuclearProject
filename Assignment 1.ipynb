{
 "cells": [
  {
   "cell_type": "markdown",
   "metadata": {},
   "source": [
    "### Assignment #1\n",
    "\n",
    "### Nuclear Physics II\n",
    "\n",
    "### Instructor: Prof. Sean Dobbs\n",
    "\n",
    "### February 2nd, 2024\n",
    "\n",
    "*Due by 11 PM, February 19th*"
   ]
  },
  {
   "cell_type": "markdown",
   "metadata": {},
   "source": [
    "  "
   ]
  },
  {
   "cell_type": "markdown",
   "metadata": {},
   "source": [
    "## Guidelines"
   ]
  },
  {
   "cell_type": "markdown",
   "metadata": {},
   "source": [
    "You will be asked to solve several problems, some of which will be short answers or derivations, some of which will be computational. For the short answer problems, please submit them in some digital form (PDF, JPEG, scanned files, etc.).  For the computational problems, please submit both the answers to the questions and the code that you used to generate these answers.  While any sample code provided will be in python, you can submit programs in any programming language you like, provided that I can compile and run the programs.  You are **strongly** encouraged to use python.  Any figures should be properly labeled, with descriptive axis labels, and either a legend, or a caption describing the contents. You can also use any commonly used HENP packages such as ROOT, as long as I can access them.  If you have any uncertainty on these topics, please ask.\n",
    "\n",
    "\n",
    "You will be evaluated based on the files contained in your remote GitHub repository at the due date.  You should and commit all the files you created to your local repository on a regular basis. You should do this by adding any new or modified files using \"git add\", and then finalizing changes using \"git commit\".  Remember that \"git status\" will give you information on which files in your repository. have been changed.  Remember to add short, but useful comments when performing a commit. When you are finished with the exercise, push the current status of your local repository to the remote repository on GitHub using the command \"git push -u\". You are encouraged to push your local files to the remote repository periodically before you are done, and certainly well before the deadline, if possible.\n",
    "\n",
    "Please also remember to cite code copied from the book or internet, and note if you worked closely with another student.  Citations matter and are good practice!  Please do not use ChatGPT or other generative AI."
   ]
  },
  {
   "cell_type": "markdown",
   "metadata": {},
   "source": [
    "## 1. Allowed and Forbidden Decays"
   ]
  },
  {
   "cell_type": "markdown",
   "metadata": {},
   "source": [
    "State if these reactions or decays are allowed or forbidden to proceed via the strong interaction, and why.\n",
    "1. $p + p \\to n + \\bar{n}$\n",
    "2. $K^+ + n \\to \\Sigma^+ + \\pi^0$\n",
    "3. $d + d \\to \\mathrm{He} + \\pi^0$\n",
    "4. $\\pi^- + p \\to \\Lambda + K0$\n",
    "5. $\\Xi^- \\to \\Sigma^0 + K^-$\n",
    "6. $\\omega \\to \\eta \\pi^0$\n",
    "7. $\\rho^0 \\to \\eta \\pi^0$"
   ]
  },
  {
   "cell_type": "markdown",
   "metadata": {},
   "source": [
    "## 2. Isospin Ratios"
   ]
  },
  {
   "cell_type": "markdown",
   "metadata": {},
   "source": [
    "For a particular center-of-mass energy, use isospin considerations to determine the relative ratio between the cross sections for these three reactions:\n",
    "1. $\\pi^- + p \\to K^0 \\Sigma^0$\n",
    "2. $\\pi^- + p \\to K^+ \\Sigma^-$ \n",
    "3. $\\pi^+ + p \\to K^+ \\Sigma^+$"
   ]
  },
  {
   "cell_type": "markdown",
   "metadata": {},
   "source": [
    "## 3.  Determining the parity of the $\\Xi^-$"
   ]
  },
  {
   "cell_type": "markdown",
   "metadata": {},
   "source": [
    "In principle, we can determine the spin of the $\\Xi^-$ baryon by measuring the following reaction from $\\Xi^-$ baryons stopping in a hydrogen target:\n",
    "$$\\Xi^- + p \\to \\Lambda^0 + \\Lambda^0$$\n",
    "Since the $\\Xi^-$ baryons are stopping in the target, the process proceeds through an S-wave, so the relative orbital angular momentum between the $\\Xi^- + p$ is zero.  Remember that we can measure the polarization of the $\\Lambda^0$ through the angular distribution $\\Lambda^0 \\to p + \\pi^-$ decays.\n",
    "\n",
    "Show how the relative spin orientation of the two $\\Lambda^0$ (i.e. their total spin state) depends on the parity of the $\\Xi^-$.\n"
   ]
  },
  {
   "cell_type": "markdown",
   "metadata": {},
   "source": [
    "## 4. Modeling Radioactive Decay Chains"
   ]
  },
  {
   "cell_type": "markdown",
   "metadata": {},
   "source": [
    "In Physics, the term \"Monte Carlo\" refers to any use of random sampling to solve a problem.  Since computers are very efficient at generating (pseudo-)random numbers with specific distributions, they are good tools to solve problems with this method.  Monte Carlo methods are particularly good for numerical integration or drawing from a probability distribution.  They are therefore particularly good at simulating quantum systems, and simulating repeated, statistically independent measurements of a system - which describes most experiments in nuclear and hadronic physics. "
   ]
  },
  {
   "cell_type": "markdown",
   "metadata": {},
   "source": [
    "To start off with an example of how to use random numbers in a calculation, let's consider modeling a radioactive decay.  The isotope $^{208}$Tl decays to $^{208}$Pb with a half-life of 3.053 minutes.  We can look at the properties of this decay process by starting with a sample of these atoms and simulating their decay over time, using random numbers to simulate the randomness of the radioactive decay.\n",
    "\n",
    "We know that on average the number of atoms $N$ declines exponentially over time:\n",
    "$$N(t) = N(0)\\,2^{-t/\\tau}$$\n",
    "where $\\tau$ is the half-life for the decay.  This means that the probability $p(t)$ that any particular atom has decayed at time $t$ is one minus this probability:\n",
    "$$p(t) = 1 - 2^{-t/\\tau}$$\n",
    "As an example, we can start with a sample of 1000 atoms of $^{208}$Tl, define a time frame to study, and divide it into 1 second increments.  In each time step, we consider each of the $^{208}$Tl atoms, and decide whether or not it decays, and keep a running total of how many $^{208}$Tl and $^{208}$Pb atoms we have.  Here is an example of this calculation:"
   ]
  },
  {
   "cell_type": "code",
   "execution_count": 2,
   "metadata": {},
   "outputs": [
    {
     "data": {
      "image/png": "[encoded data removed]",
      "text/plain": [
       "<Figure size 432x288 with 1 Axes>"
      ]
     },
     "metadata": {
      "needs_background": "light"
     },
     "output_type": "display_data"
    }
   ],
   "source": [
    "# Adapted from \"Computational Physics\", M. Newman, Ex.10.1\n",
    "from random import random\n",
    "from numpy import arange\n",
    "from pylab import plot,xlabel,ylabel,show,legend\n",
    "\n",
    "# Constants\n",
    "NTl = 1000            # Number of thallium atoms\n",
    "NPb = 0               # Number of lead atoms\n",
    "tau = 3.053*60        # Half life of thallium in seconds\n",
    "h = 1.0               # Size of time-step in seconds\n",
    "p = 1. - 2.**(-h/tau)   # Probability of decay in one step\n",
    "tmax = 1000           # Total time\n",
    "\n",
    "# Lists of plot points\n",
    "tpoints = arange(0.0,tmax,h)\n",
    "Tlpoints = []\n",
    "Pbpoints = []\n",
    "\n",
    "# Main loop\n",
    "for t in tpoints:\n",
    "    Tlpoints.append(NTl)\n",
    "    Pbpoints.append(NPb)\n",
    "\n",
    "    # Calculate the number of atoms that decay\n",
    "    decay = 0\n",
    "    for i in range(NTl):\n",
    "        # note that random.random() returns a uniformly distributed number in the range [0,1]\n",
    "        if random()<p:\n",
    "            decay += 1\n",
    "    NTl -= decay\n",
    "    NPb += decay\n",
    "\n",
    "# Make the graph\n",
    "plot(tpoints,Tlpoints,label='$^{208}$Tl')\n",
    "plot(tpoints,Pbpoints,label='$^{208}$Pb')\n",
    "xlabel(\"Time (s)\")\n",
    "ylabel(\"Number of atoms\")\n",
    "legend()\n",
    "show()"
   ]
  },
  {
   "cell_type": "markdown",
   "metadata": {},
   "source": [
    "We can generalize this to more complicated decay chains.  Consider the decay of $^{213}$Bi to the stable isotope $^{209}$Be.   This process goes through the following decays:\n",
    "*  $^{213}$Bi decays with a half-life of 46 min, 97.91% of the time to $^{209}$Pb, and 2.09% of the time to $^{209}$Tl.\n",
    "* $^{209}$Tl will decay 100% of the time to $^{209}$Pb with a half-life of 2.2 min\n",
    "* $^{209}$Pb will decay 100% of the time to $^{213}$Bi with a half-life of 3.3 min"
   ]
  },
  {
   "cell_type": "markdown",
   "metadata": {},
   "source": [
    "Write a program that simulates this decay chain for 10,000 atoms of $^{213}$Bi, using time slices of $\\delta t=1$.  You should follow this bottom-up approach (to avoid the chance that one particle decays twice in one time slice):\n",
    "1. For each atom of $^{209}$Pb, decide at random (with the appropriate probability), if the atom decays or not.\n",
    "2. For each atom of $^{209}$Tl, decide at random if the atom decays or not.\n",
    "3. For each atom of $^{213}$Bi, decide at random if the atom decays or not, and randomly choose with decay path to take with the appropriate probability.\n",
    "\n",
    "Keep track of the number of atoms of each isotope at each time step, and make a single graph showing four curves, showing how each of these varies over time."
   ]
  },
  {
   "cell_type": "markdown",
   "metadata": {},
   "source": [
    "## 5. Exploring Kinematics Using Monte Carlo Calculations"
   ]
  },
  {
   "cell_type": "markdown",
   "metadata": {},
   "source": [
    "One way to generate events that are distributed in a non-uniform way is through the sampling or \"accept/reject\" method.  It's most straight forward to think about the one dimensional case.  For selecting events from a multi-dimensional distribution, we can generally sample one dimension at a time.  \n",
    "\n",
    "If we are given a function to sample events from over a given range, first, think about plotting $f(x)$ vs. $x$.  Next, draw a box defined by the positive and negative values of the $x$ range, and the maximum value of $f(x)$ (and maybe the minimum value as well, if it drops below zero).  Next, generate a random pair of values $(x,y)$ uniformly distributed over the box.  Finally, keep the event with valye $x$ if it satisfies $y<f(x)$, otherwise through it away and generate another uniformly distributed event. Keep on going until you have as many events as you want.\n",
    "\n",
    "Below is an example of generating events with a to $1+\\cos^2\\theta$ distribution, where $\\theta$ is the polar angle in spherical coordinates.  The distribution of events is plotted, along with a red curve that corresponds to the expected distribution that the events are being drawn from (properly normalized to the number of events generated)."
   ]
  },
  {
   "cell_type": "code",
   "execution_count": 42,
   "metadata": {},
   "outputs": [
    {
     "data": {
      "image/png": "[encoded data removed]",
      "text/plain": [
       "<Figure size 432x288 with 1 Axes>"
      ]
     },
     "metadata": {
      "needs_background": "light"
     },
     "output_type": "display_data"
    }
   ],
   "source": [
    "from random import random,uniform\n",
    "import matplotlib.pyplot as plt\n",
    "import numpy as np\n",
    "import math\n",
    "\n",
    "N = 10000\n",
    "b = 100.\n",
    "\n",
    "# simulate events\n",
    "data = []\n",
    "for x in range(N):\n",
    "    while 1:\n",
    "        costheta = uniform(-1,1)  # sample uniformly in cos(theta)\n",
    "        r1 = 2.*random()         # should we keep the event or not?\n",
    "        if(r1 < 1+costheta**2):\n",
    "            break\n",
    "    data.append(costheta)\n",
    "    \n",
    "# draw the model curve, for comparison\n",
    "def f(x):\n",
    "        return 1 + x**2\n",
    "xpts = np.linspace(-1,1,100)\n",
    "        \n",
    "plt.hist(data,bins=50, range=[-1,1])\n",
    "plt.plot(xpts,140.*f(xpts), color='red')\n",
    "\n",
    "plt.ylabel(\"Yield / 0.04\")\n",
    "plt.xlabel(\"cos(theta)\")\n",
    "\n",
    "\n",
    "plt.show()\n",
    "\n"
   ]
  },
  {
   "cell_type": "markdown",
   "metadata": {},
   "source": [
    "We can use such techniques to generate events that can be used in more complicated simulation packages, and also to study various properties of reactions."
   ]
  },
  {
   "cell_type": "markdown",
   "metadata": {},
   "source": [
    "Let's consider the decay of a boson of rest mass 200~MeV into two massless particles.  A beam of such bosons is moving along the $z$-axis with a certain momentum.  Consider two cases of the decay: where the decay particles are generated uniform in solid angle (uniform in $\\phi$ and in $\\cos \\theta$), and where the decay particles are generated uniform in $\\phi$ and with a $1+\\cos^2\\theta$ distribution.  Note that these decay distributions are defined in the rest frame of the boson.\n",
    "\n",
    "Consider three different cases: where the bosons have momenta of 300 MeV/c, 900 MeV/c, and 1.4 GeV/c in the \"lab frame\".  In each of these cases, compare the distributions of the energies and polar angles ($\\theta$) of the decay particles under the two hypotheses (note that since this is a two-body decay, you only have to determine the orientation of one of these particles - the other is then defined by energy and momentum conservation).  For each momenta, then answer the following questions:  What is the maximum energy and polar angle of the decay products in the lab frame?  What is the minimum energy and polar angle of the decay products in the lab frame?  What is the most probable energy and polar angle of the decay products in the lab frame?  "
   ]
  }
 ],
 "metadata": {
  "kernelspec": {
   "display_name": "Python 3",
   "language": "python",
   "name": "python3"
  },
  "language_info": {
   "codemirror_mode": {
    "name": "ipython",
    "version": 3
   },
   "file_extension": ".py",
   "mimetype": "text/x-python",
   "name": "python",
   "nbconvert_exporter": "python",
   "pygments_lexer": "ipython3",
   "version": "3.7.4"
  }
 },
 "nbformat": 4,
 "nbformat_minor": 5
}
